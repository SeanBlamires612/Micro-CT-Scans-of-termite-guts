{
 "cells": [
  {
   "cell_type": "markdown",
   "id": "7b71f4b3",
   "metadata": {},
   "source": [
    "Install and import the relavant packages"
   ]
  },
  {
   "cell_type": "code",
   "execution_count": 1,
   "id": "b59af953",
   "metadata": {},
   "outputs": [],
   "source": [
    "%matplotlib inline"
   ]
  },
  {
   "cell_type": "code",
   "execution_count": 2,
   "id": "3f2eda01",
   "metadata": {},
   "outputs": [
    {
     "name": "stdout",
     "output_type": "stream",
     "text": [
      "Requirement already satisfied: pandas in c:\\users\\sblam\\anaconda3\\lib\\site-packages (1.5.3)\n",
      "Requirement already satisfied: python-dateutil>=2.8.1 in c:\\users\\sblam\\anaconda3\\lib\\site-packages (from pandas) (2.8.2)\n",
      "Requirement already satisfied: pytz>=2020.1 in c:\\users\\sblam\\anaconda3\\lib\\site-packages (from pandas) (2022.7)\n",
      "Requirement already satisfied: numpy>=1.21.0 in c:\\users\\sblam\\anaconda3\\lib\\site-packages (from pandas) (1.24.3)\n",
      "Requirement already satisfied: six>=1.5 in c:\\users\\sblam\\anaconda3\\lib\\site-packages (from python-dateutil>=2.8.1->pandas) (1.16.0)\n",
      "Note: you may need to restart the kernel to use updated packages.\n"
     ]
    }
   ],
   "source": [
    "pip install pandas"
   ]
  },
  {
   "cell_type": "code",
   "execution_count": 3,
   "id": "1bf8325a",
   "metadata": {},
   "outputs": [
    {
     "name": "stdout",
     "output_type": "stream",
     "text": [
      "Requirement already satisfied: matplotlib in c:\\users\\sblam\\anaconda3\\lib\\site-packages (3.7.1)\n",
      "Requirement already satisfied: contourpy>=1.0.1 in c:\\users\\sblam\\anaconda3\\lib\\site-packages (from matplotlib) (1.0.5)\n",
      "Requirement already satisfied: cycler>=0.10 in c:\\users\\sblam\\anaconda3\\lib\\site-packages (from matplotlib) (0.11.0)\n",
      "Requirement already satisfied: fonttools>=4.22.0 in c:\\users\\sblam\\anaconda3\\lib\\site-packages (from matplotlib) (4.25.0)\n",
      "Requirement already satisfied: kiwisolver>=1.0.1 in c:\\users\\sblam\\anaconda3\\lib\\site-packages (from matplotlib) (1.4.4)\n",
      "Requirement already satisfied: numpy>=1.20 in c:\\users\\sblam\\anaconda3\\lib\\site-packages (from matplotlib) (1.24.3)\n",
      "Requirement already satisfied: packaging>=20.0 in c:\\users\\sblam\\anaconda3\\lib\\site-packages (from matplotlib) (23.0)\n",
      "Requirement already satisfied: pillow>=6.2.0 in c:\\users\\sblam\\anaconda3\\lib\\site-packages (from matplotlib) (10.3.0)\n",
      "Requirement already satisfied: pyparsing>=2.3.1 in c:\\users\\sblam\\anaconda3\\lib\\site-packages (from matplotlib) (3.0.9)\n",
      "Requirement already satisfied: python-dateutil>=2.7 in c:\\users\\sblam\\anaconda3\\lib\\site-packages (from matplotlib) (2.8.2)\n",
      "Requirement already satisfied: six>=1.5 in c:\\users\\sblam\\anaconda3\\lib\\site-packages (from python-dateutil>=2.7->matplotlib) (1.16.0)\n",
      "Note: you may need to restart the kernel to use updated packages.\n"
     ]
    }
   ],
   "source": [
    "pip install matplotlib"
   ]
  },
  {
   "cell_type": "code",
   "execution_count": 4,
   "id": "a7b91090",
   "metadata": {},
   "outputs": [
    {
     "name": "stdout",
     "output_type": "stream",
     "text": [
      "Requirement already satisfied: numpy in c:\\users\\sblam\\anaconda3\\lib\\site-packages (1.24.3)\n",
      "Note: you may need to restart the kernel to use updated packages.\n"
     ]
    }
   ],
   "source": [
    "pip install numpy"
   ]
  },
  {
   "cell_type": "code",
   "execution_count": 5,
   "id": "14322323",
   "metadata": {},
   "outputs": [],
   "source": [
    "import pandas as pd\n",
    "import matplotlib.pyplot as plt"
   ]
  },
  {
   "cell_type": "markdown",
   "id": "78e9cf6f",
   "metadata": {},
   "source": [
    "Upload and examine the dataset"
   ]
  },
  {
   "cell_type": "code",
   "execution_count": 6,
   "id": "ff170c8a",
   "metadata": {},
   "outputs": [],
   "source": [
    "df = pd.read_csv(\"micro_ct_dataset.csv\")"
   ]
  },
  {
   "cell_type": "code",
   "execution_count": 7,
   "id": "b32004fd",
   "metadata": {},
   "outputs": [
    {
     "data": {
      "text/html": [
       "<div>\n",
       "<style scoped>\n",
       "    .dataframe tbody tr th:only-of-type {\n",
       "        vertical-align: middle;\n",
       "    }\n",
       "\n",
       "    .dataframe tbody tr th {\n",
       "        vertical-align: top;\n",
       "    }\n",
       "\n",
       "    .dataframe thead th {\n",
       "        text-align: right;\n",
       "    }\n",
       "</style>\n",
       "<table border=\"1\" class=\"dataframe\">\n",
       "  <thead>\n",
       "    <tr style=\"text-align: right;\">\n",
       "      <th></th>\n",
       "      <th>Stain</th>\n",
       "      <th>Hindgut_vol</th>\n",
       "      <th>Hindgut_CSA</th>\n",
       "      <th>Hindgut_PTC</th>\n",
       "      <th>Hindgut_PI</th>\n",
       "      <th>Midgut_vol</th>\n",
       "      <th>Midgut_CSA</th>\n",
       "      <th>Midgut_PTC</th>\n",
       "      <th>Midgut_PI</th>\n",
       "      <th>Forgut_vol</th>\n",
       "      <th>...</th>\n",
       "      <th>SG_CSA</th>\n",
       "      <th>SG_PTC</th>\n",
       "      <th>SG_PI</th>\n",
       "      <th>brain_vol</th>\n",
       "      <th>brain_CSA</th>\n",
       "      <th>brain_PTC</th>\n",
       "      <th>brain_PI</th>\n",
       "      <th>thorax_width</th>\n",
       "      <th>head_width</th>\n",
       "      <th>cuticle_width</th>\n",
       "    </tr>\n",
       "  </thead>\n",
       "  <tbody>\n",
       "    <tr>\n",
       "      <th>0</th>\n",
       "      <td>Lugols</td>\n",
       "      <td>130385.76</td>\n",
       "      <td>7809.14</td>\n",
       "      <td>0.44</td>\n",
       "      <td>30.0</td>\n",
       "      <td>59202.00</td>\n",
       "      <td>4599.00</td>\n",
       "      <td>0.58</td>\n",
       "      <td>34.0</td>\n",
       "      <td>48658.43</td>\n",
       "      <td>...</td>\n",
       "      <td>200.17</td>\n",
       "      <td>0.58</td>\n",
       "      <td>99.0</td>\n",
       "      <td>29874.0</td>\n",
       "      <td>1338.80</td>\n",
       "      <td>0.68</td>\n",
       "      <td>194.0</td>\n",
       "      <td>155.390</td>\n",
       "      <td>114.061</td>\n",
       "      <td>9.220</td>\n",
       "    </tr>\n",
       "    <tr>\n",
       "      <th>1</th>\n",
       "      <td>Lugols</td>\n",
       "      <td>192083.76</td>\n",
       "      <td>10020.79</td>\n",
       "      <td>0.57</td>\n",
       "      <td>63.0</td>\n",
       "      <td>505665.10</td>\n",
       "      <td>4111.30</td>\n",
       "      <td>0.60</td>\n",
       "      <td>36.0</td>\n",
       "      <td>32553.38</td>\n",
       "      <td>...</td>\n",
       "      <td>568.84</td>\n",
       "      <td>0.70</td>\n",
       "      <td>90.0</td>\n",
       "      <td>2441752.2</td>\n",
       "      <td>11853.95</td>\n",
       "      <td>0.71</td>\n",
       "      <td>233.0</td>\n",
       "      <td>165.148</td>\n",
       "      <td>107.787</td>\n",
       "      <td>9.220</td>\n",
       "    </tr>\n",
       "    <tr>\n",
       "      <th>2</th>\n",
       "      <td>Lugols</td>\n",
       "      <td>158043.56</td>\n",
       "      <td>8941.74</td>\n",
       "      <td>0.69</td>\n",
       "      <td>48.0</td>\n",
       "      <td>43397.68</td>\n",
       "      <td>4034.58</td>\n",
       "      <td>0.53</td>\n",
       "      <td>21.0</td>\n",
       "      <td>42016.80</td>\n",
       "      <td>...</td>\n",
       "      <td>378.04</td>\n",
       "      <td>0.75</td>\n",
       "      <td>110.0</td>\n",
       "      <td>1054826.0</td>\n",
       "      <td>7586.42</td>\n",
       "      <td>0.67</td>\n",
       "      <td>227.0</td>\n",
       "      <td>163.150</td>\n",
       "      <td>110.023</td>\n",
       "      <td>9.055</td>\n",
       "    </tr>\n",
       "    <tr>\n",
       "      <th>3</th>\n",
       "      <td>Lugols</td>\n",
       "      <td>134732.63</td>\n",
       "      <td>7981.56</td>\n",
       "      <td>0.61</td>\n",
       "      <td>51.0</td>\n",
       "      <td>56080.30</td>\n",
       "      <td>4407.11</td>\n",
       "      <td>0.62</td>\n",
       "      <td>36.0</td>\n",
       "      <td>37205.66</td>\n",
       "      <td>...</td>\n",
       "      <td>445.44</td>\n",
       "      <td>0.73</td>\n",
       "      <td>98.0</td>\n",
       "      <td>148511.0</td>\n",
       "      <td>10738.92</td>\n",
       "      <td>0.80</td>\n",
       "      <td>210.0</td>\n",
       "      <td>152.778</td>\n",
       "      <td>88.837</td>\n",
       "      <td>20.616</td>\n",
       "    </tr>\n",
       "    <tr>\n",
       "      <th>4</th>\n",
       "      <td>Lugols</td>\n",
       "      <td>167689.59</td>\n",
       "      <td>9159.24</td>\n",
       "      <td>0.56</td>\n",
       "      <td>65.0</td>\n",
       "      <td>7254.20</td>\n",
       "      <td>5270.73</td>\n",
       "      <td>0.54</td>\n",
       "      <td>44.0</td>\n",
       "      <td>42510.00</td>\n",
       "      <td>...</td>\n",
       "      <td>313.43</td>\n",
       "      <td>0.87</td>\n",
       "      <td>96.0</td>\n",
       "      <td>115060.1</td>\n",
       "      <td>8613.29</td>\n",
       "      <td>0.72</td>\n",
       "      <td>204.0</td>\n",
       "      <td>148.000</td>\n",
       "      <td>105.546</td>\n",
       "      <td>19.000</td>\n",
       "    </tr>\n",
       "  </tbody>\n",
       "</table>\n",
       "<p>5 rows × 24 columns</p>\n",
       "</div>"
      ],
      "text/plain": [
       "    Stain  Hindgut_vol  Hindgut_CSA  Hindgut_PTC  Hindgut_PI  Midgut_vol  \\\n",
       "0  Lugols    130385.76      7809.14         0.44        30.0    59202.00   \n",
       "1  Lugols    192083.76     10020.79         0.57        63.0   505665.10   \n",
       "2  Lugols    158043.56      8941.74         0.69        48.0    43397.68   \n",
       "3  Lugols    134732.63      7981.56         0.61        51.0    56080.30   \n",
       "4  Lugols    167689.59      9159.24         0.56        65.0     7254.20   \n",
       "\n",
       "   Midgut_CSA  Midgut_PTC  Midgut_PI  Forgut_vol  ...  SG_CSA  SG_PTC  SG_PI  \\\n",
       "0     4599.00        0.58       34.0    48658.43  ...  200.17    0.58   99.0   \n",
       "1     4111.30        0.60       36.0    32553.38  ...  568.84    0.70   90.0   \n",
       "2     4034.58        0.53       21.0    42016.80  ...  378.04    0.75  110.0   \n",
       "3     4407.11        0.62       36.0    37205.66  ...  445.44    0.73   98.0   \n",
       "4     5270.73        0.54       44.0    42510.00  ...  313.43    0.87   96.0   \n",
       "\n",
       "   brain_vol  brain_CSA  brain_PTC  brain_PI  thorax_width  head_width  \\\n",
       "0    29874.0    1338.80       0.68     194.0       155.390     114.061   \n",
       "1  2441752.2   11853.95       0.71     233.0       165.148     107.787   \n",
       "2  1054826.0    7586.42       0.67     227.0       163.150     110.023   \n",
       "3   148511.0   10738.92       0.80     210.0       152.778      88.837   \n",
       "4   115060.1    8613.29       0.72     204.0       148.000     105.546   \n",
       "\n",
       "   cuticle_width  \n",
       "0          9.220  \n",
       "1          9.220  \n",
       "2          9.055  \n",
       "3         20.616  \n",
       "4         19.000  \n",
       "\n",
       "[5 rows x 24 columns]"
      ]
     },
     "execution_count": 7,
     "metadata": {},
     "output_type": "execute_result"
    }
   ],
   "source": [
    "df.head()"
   ]
  },
  {
   "cell_type": "code",
   "execution_count": 8,
   "id": "ef0395d5",
   "metadata": {},
   "outputs": [
    {
     "name": "stdout",
     "output_type": "stream",
     "text": [
      "<class 'pandas.core.frame.DataFrame'>\n",
      "RangeIndex: 61 entries, 0 to 60\n",
      "Data columns (total 24 columns):\n",
      " #   Column         Non-Null Count  Dtype  \n",
      "---  ------         --------------  -----  \n",
      " 0   Stain          60 non-null     object \n",
      " 1   Hindgut_vol    60 non-null     float64\n",
      " 2   Hindgut_CSA    60 non-null     float64\n",
      " 3   Hindgut_PTC    60 non-null     float64\n",
      " 4   Hindgut_PI     60 non-null     float64\n",
      " 5   Midgut_vol     60 non-null     float64\n",
      " 6   Midgut_CSA     60 non-null     float64\n",
      " 7   Midgut_PTC     60 non-null     float64\n",
      " 8   Midgut_PI      60 non-null     float64\n",
      " 9   Forgut_vol     60 non-null     float64\n",
      " 10  Forgut_CSA     60 non-null     float64\n",
      " 11  Forgut_PTC     60 non-null     float64\n",
      " 12  Forgut_PI      60 non-null     float64\n",
      " 13  SG_vol         60 non-null     float64\n",
      " 14  SG_CSA         60 non-null     float64\n",
      " 15  SG_PTC         60 non-null     float64\n",
      " 16  SG_PI          60 non-null     float64\n",
      " 17  brain_vol      60 non-null     float64\n",
      " 18  brain_CSA      60 non-null     float64\n",
      " 19  brain_PTC      60 non-null     float64\n",
      " 20  brain_PI       60 non-null     float64\n",
      " 21  thorax_width   60 non-null     float64\n",
      " 22  head_width     60 non-null     float64\n",
      " 23  cuticle_width  60 non-null     float64\n",
      "dtypes: float64(23), object(1)\n",
      "memory usage: 11.6+ KB\n"
     ]
    }
   ],
   "source": [
    "df.info()"
   ]
  },
  {
   "cell_type": "markdown",
   "id": "61fbb3b8",
   "metadata": {},
   "source": [
    "Select all columns except 'Stain' for plotting"
   ]
  },
  {
   "cell_type": "code",
   "execution_count": 9,
   "id": "55aa3f75",
   "metadata": {},
   "outputs": [],
   "source": [
    "numeric_columns = df.select_dtypes(include='float64').columns"
   ]
  },
  {
   "cell_type": "markdown",
   "id": "4716da5f",
   "metadata": {},
   "source": [
    "Set up the layout of the plots"
   ]
  },
  {
   "cell_type": "code",
   "execution_count": 10,
   "id": "d07caca0",
   "metadata": {},
   "outputs": [
    {
     "data": {
      "image/png": "[encoded data removed]",
      "text/plain": [
       "<Figure size 2000x1500 with 24 Axes>"
      ]
     },
     "metadata": {},
     "output_type": "display_data"
    }
   ],
   "source": [
    "rows = 6\n",
    "cols = 4\n",
    "fig, axes = plt.subplots(rows, cols, figsize=(20, 15))"
   ]
  },
  {
   "cell_type": "markdown",
   "id": "69c1f86e",
   "metadata": {},
   "source": [
    "Flatten the axes array to easily iterate"
   ]
  },
  {
   "cell_type": "code",
   "execution_count": 11,
   "id": "375e3d30",
   "metadata": {},
   "outputs": [],
   "source": [
    "axes = axes.flatten()"
   ]
  },
  {
   "cell_type": "markdown",
   "id": "815ffc3b",
   "metadata": {},
   "source": [
    "Plot a histogram for each numeric column"
   ]
  },
  {
   "cell_type": "code",
   "execution_count": 12,
   "id": "99ec5610",
   "metadata": {},
   "outputs": [],
   "source": [
    "for i, column in enumerate(numeric_columns):\n",
    "    df[column].plot(kind='hist', bins=15, ax=axes[i], color='skyblue', edgecolor='black')\n",
    "    axes[i].set_title(column)\n",
    "    axes[i].set_xlabel('Value')\n",
    "    axes[i].set_ylabel('Frequency')\n",
    "    axes[i].set_facecolor('white')"
   ]
  },
  {
   "cell_type": "markdown",
   "id": "ce7399b5",
   "metadata": {},
   "source": [
    "Adjust layout to avoid overlap"
   ]
  },
  {
   "cell_type": "code",
   "execution_count": 13,
   "id": "c0df1da2",
   "metadata": {},
   "outputs": [
    {
     "data": {
      "text/plain": [
       "<Figure size 640x480 with 0 Axes>"
      ]
     },
     "metadata": {},
     "output_type": "display_data"
    }
   ],
   "source": [
    "plt.tight_layout()"
   ]
  },
  {
   "cell_type": "markdown",
   "id": "b40e74a9",
   "metadata": {},
   "source": [
    "Remove any unused subplots (in case there are fewer columns than subplots)"
   ]
  },
  {
   "cell_type": "code",
   "execution_count": 14,
   "id": "189ca46f",
   "metadata": {},
   "outputs": [],
   "source": [
    "for j in range(i+1, len(axes)):\n",
    "    fig.delaxes(axes[j])"
   ]
  },
  {
   "cell_type": "markdown",
   "id": "9d88b245",
   "metadata": {},
   "source": [
    "Adjust layout to avoid overlap between subplots"
   ]
  },
  {
   "cell_type": "code",
   "execution_count": 15,
   "id": "7aab54b3",
   "metadata": {},
   "outputs": [],
   "source": [
    "fig.tight_layout()  # Tighten the layout of the figure"
   ]
  },
  {
   "cell_type": "markdown",
   "id": "9ece054f",
   "metadata": {},
   "source": [
    "Show the plot"
   ]
  },
  {
   "cell_type": "code",
   "execution_count": 16,
   "id": "94306408",
   "metadata": {},
   "outputs": [
    {
     "data": {
      "text/plain": [
       "(<Figure size 640x480 with 1 Axes>, <Axes: >)"
      ]
     },
     "execution_count": 16,
     "metadata": {},
     "output_type": "execute_result"
    },
    {
     "data": {
      "image/png": "[encoded data removed]",
      "text/plain": [
       "<Figure size 640x480 with 1 Axes>"
      ]
     },
     "metadata": {},
     "output_type": "display_data"
    }
   ],
   "source": [
    "plt.subplots()"
   ]
  },
  {
   "cell_type": "code",
   "execution_count": 17,
   "id": "effa87ce",
   "metadata": {},
   "outputs": [],
   "source": [
    "plt.show()"
   ]
  },
  {
   "cell_type": "markdown",
   "id": "0dde874b",
   "metadata": {},
   "source": [
    "Kruskal-Wallis Test of pobabilistic tissue contrasts"
   ]
  },
  {
   "cell_type": "code",
   "execution_count": 18,
   "id": "d70e382e",
   "metadata": {},
   "outputs": [],
   "source": [
    "from scipy.stats import kruskal"
   ]
  },
  {
   "cell_type": "markdown",
   "id": "8c87f8a0",
   "metadata": {},
   "source": [
    "Subset the columns for the test"
   ]
  },
  {
   "cell_type": "code",
   "execution_count": 19,
   "id": "8cfa8c39",
   "metadata": {},
   "outputs": [],
   "source": [
    "variables = ['Hindgut_PTC', 'Midgut_PTC', 'Forgut_PTC', 'SG_PTC', 'brain_PTC']"
   ]
  },
  {
   "cell_type": "markdown",
   "id": "464d0b90",
   "metadata": {},
   "source": [
    "Group the data by 'Stain' and create lists of values for each variable per group"
   ]
  },
  {
   "cell_type": "code",
   "execution_count": 20,
   "id": "dabd7024",
   "metadata": {},
   "outputs": [],
   "source": [
    "grouped_data = [df.groupby('Stain')[var].apply(list) for var in variables]"
   ]
  },
  {
   "cell_type": "markdown",
   "id": "0d6e7641",
   "metadata": {},
   "source": [
    "Perform Kruskal-Wallis test for each variable"
   ]
  },
  {
   "cell_type": "code",
   "execution_count": 21,
   "id": "1b305ec0",
   "metadata": {},
   "outputs": [
    {
     "name": "stdout",
     "output_type": "stream",
     "text": [
      "Kruskal-Wallis test for Hindgut_PTC: H-statistic = 5.0913, p-value = 0.0784\n",
      "Kruskal-Wallis test for Midgut_PTC: H-statistic = 20.8712, p-value = 0.0000\n",
      "Kruskal-Wallis test for Forgut_PTC: H-statistic = 32.0225, p-value = 0.0000\n",
      "Kruskal-Wallis test for SG_PTC: H-statistic = 10.3725, p-value = 0.0056\n",
      "Kruskal-Wallis test for brain_PTC: H-statistic = 35.4032, p-value = 0.0000\n"
     ]
    }
   ],
   "source": [
    "for i, var in enumerate(variables):\n",
    "    stat, p_value = kruskal(*grouped_data[i])\n",
    "    print(f'Kruskal-Wallis test for {var}: H-statistic = {stat:.4f}, p-value = {p_value:.4f}')"
   ]
  },
  {
   "cell_type": "markdown",
   "id": "0a82dcb4",
   "metadata": {},
   "source": [
    "Post-hoc Dunn’s Test"
   ]
  },
  {
   "cell_type": "code",
   "execution_count": 22,
   "id": "414d452e",
   "metadata": {},
   "outputs": [
    {
     "name": "stdout",
     "output_type": "stream",
     "text": [
      "Requirement already satisfied: scikit-posthocs in c:\\users\\sblam\\anaconda3\\lib\\site-packages (0.9.0)\n",
      "Requirement already satisfied: numpy in c:\\users\\sblam\\anaconda3\\lib\\site-packages (from scikit-posthocs) (1.24.3)\n",
      "Requirement already satisfied: scipy>=1.9.0 in c:\\users\\sblam\\anaconda3\\lib\\site-packages (from scikit-posthocs) (1.10.1)\n",
      "Requirement already satisfied: statsmodels in c:\\users\\sblam\\anaconda3\\lib\\site-packages (from scikit-posthocs) (0.14.0)\n",
      "Requirement already satisfied: pandas>=0.20.0 in c:\\users\\sblam\\anaconda3\\lib\\site-packages (from scikit-posthocs) (1.5.3)\n",
      "Requirement already satisfied: seaborn in c:\\users\\sblam\\anaconda3\\lib\\site-packages (from scikit-posthocs) (0.12.2)\n",
      "Requirement already satisfied: matplotlib in c:\\users\\sblam\\anaconda3\\lib\\site-packages (from scikit-posthocs) (3.7.1)\n",
      "Requirement already satisfied: python-dateutil>=2.8.1 in c:\\users\\sblam\\anaconda3\\lib\\site-packages (from pandas>=0.20.0->scikit-posthocs) (2.8.2)\n",
      "Requirement already satisfied: pytz>=2020.1 in c:\\users\\sblam\\anaconda3\\lib\\site-packages (from pandas>=0.20.0->scikit-posthocs) (2022.7)\n",
      "Requirement already satisfied: contourpy>=1.0.1 in c:\\users\\sblam\\anaconda3\\lib\\site-packages (from matplotlib->scikit-posthocs) (1.0.5)\n",
      "Requirement already satisfied: cycler>=0.10 in c:\\users\\sblam\\anaconda3\\lib\\site-packages (from matplotlib->scikit-posthocs) (0.11.0)\n",
      "Requirement already satisfied: fonttools>=4.22.0 in c:\\users\\sblam\\anaconda3\\lib\\site-packages (from matplotlib->scikit-posthocs) (4.25.0)\n",
      "Requirement already satisfied: kiwisolver>=1.0.1 in c:\\users\\sblam\\anaconda3\\lib\\site-packages (from matplotlib->scikit-posthocs) (1.4.4)\n",
      "Requirement already satisfied: packaging>=20.0 in c:\\users\\sblam\\anaconda3\\lib\\site-packages (from matplotlib->scikit-posthocs) (23.0)\n",
      "Requirement already satisfied: pillow>=6.2.0 in c:\\users\\sblam\\anaconda3\\lib\\site-packages (from matplotlib->scikit-posthocs) (10.3.0)\n",
      "Requirement already satisfied: pyparsing>=2.3.1 in c:\\users\\sblam\\anaconda3\\lib\\site-packages (from matplotlib->scikit-posthocs) (3.0.9)\n",
      "Requirement already satisfied: patsy>=0.5.2 in c:\\users\\sblam\\anaconda3\\lib\\site-packages (from statsmodels->scikit-posthocs) (0.5.3)\n",
      "Requirement already satisfied: six in c:\\users\\sblam\\anaconda3\\lib\\site-packages (from patsy>=0.5.2->statsmodels->scikit-posthocs) (1.16.0)\n",
      "Note: you may need to restart the kernel to use updated packages.\n"
     ]
    }
   ],
   "source": [
    "pip install scikit-posthocs"
   ]
  },
  {
   "cell_type": "code",
   "execution_count": 23,
   "id": "000e0665",
   "metadata": {},
   "outputs": [],
   "source": [
    "import scikit_posthocs as sp"
   ]
  },
  {
   "cell_type": "markdown",
   "id": "64cee178",
   "metadata": {},
   "source": [
    "Combine the PTC variables into a single dataframe with corresponding 'Stain' labels"
   ]
  },
  {
   "cell_type": "code",
   "execution_count": 24,
   "id": "332ccc50",
   "metadata": {},
   "outputs": [],
   "source": [
    "ptc_data = pd.melt(df, id_vars=['Stain'], value_vars=['Hindgut_PTC', 'Midgut_PTC', 'Forgut_PTC', 'SG_PTC', 'brain_PTC'], \n",
    "                   var_name='Gut_Type', value_name='PTC_Value')"
   ]
  },
  {
   "cell_type": "markdown",
   "id": "90e5eb78",
   "metadata": {},
   "source": [
    "Drop any rows with NaN values in either 'Stain' or 'PTC_Value'"
   ]
  },
  {
   "cell_type": "code",
   "execution_count": 25,
   "id": "4a7b1968",
   "metadata": {},
   "outputs": [],
   "source": [
    "ptc_data_clean = ptc_data.dropna(subset=['Stain', 'PTC_Value'])"
   ]
  },
  {
   "cell_type": "markdown",
   "id": "0bfc3a20",
   "metadata": {},
   "source": [
    " Perform Dunn's post-hoc test"
   ]
  },
  {
   "cell_type": "code",
   "execution_count": 26,
   "id": "ddb67bf3",
   "metadata": {},
   "outputs": [],
   "source": [
    "posthoc = sp.posthoc_dunn(ptc_data_clean, val_col='PTC_Value', group_col='Stain', p_adjust='bonferroni')"
   ]
  },
  {
   "cell_type": "code",
   "execution_count": 27,
   "id": "7ef309cf",
   "metadata": {},
   "outputs": [
    {
     "name": "stdout",
     "output_type": "stream",
     "text": [
      "                   Lugols   Lugols_PTA1   Lugols_PTA2\n",
      "Lugols       1.000000e+00  6.686097e-07  1.452593e-09\n",
      "Lugols_PTA1  6.686097e-07  1.000000e+00  8.881137e-01\n",
      "Lugols_PTA2  1.452593e-09  8.881137e-01  1.000000e+00\n"
     ]
    }
   ],
   "source": [
    "print(posthoc)"
   ]
  },
  {
   "cell_type": "markdown",
   "id": "498a8262",
   "metadata": {},
   "source": [
    "Conduct MANOVA Tests of cross sectional area measurements"
   ]
  },
  {
   "cell_type": "code",
   "execution_count": 28,
   "id": "8008e30d",
   "metadata": {},
   "outputs": [
    {
     "name": "stdout",
     "output_type": "stream",
     "text": [
      "Requirement already satisfied: statsmodels in c:\\users\\sblam\\anaconda3\\lib\\site-packages (0.14.0)\n",
      "Requirement already satisfied: numpy>=1.18 in c:\\users\\sblam\\anaconda3\\lib\\site-packages (from statsmodels) (1.24.3)\n",
      "Requirement already satisfied: scipy!=1.9.2,>=1.4 in c:\\users\\sblam\\anaconda3\\lib\\site-packages (from statsmodels) (1.10.1)\n",
      "Requirement already satisfied: pandas>=1.0 in c:\\users\\sblam\\anaconda3\\lib\\site-packages (from statsmodels) (1.5.3)\n",
      "Requirement already satisfied: patsy>=0.5.2 in c:\\users\\sblam\\anaconda3\\lib\\site-packages (from statsmodels) (0.5.3)\n",
      "Requirement already satisfied: packaging>=21.3 in c:\\users\\sblam\\anaconda3\\lib\\site-packages (from statsmodels) (23.0)\n",
      "Requirement already satisfied: python-dateutil>=2.8.1 in c:\\users\\sblam\\anaconda3\\lib\\site-packages (from pandas>=1.0->statsmodels) (2.8.2)\n",
      "Requirement already satisfied: pytz>=2020.1 in c:\\users\\sblam\\anaconda3\\lib\\site-packages (from pandas>=1.0->statsmodels) (2022.7)\n",
      "Requirement already satisfied: six in c:\\users\\sblam\\anaconda3\\lib\\site-packages (from patsy>=0.5.2->statsmodels) (1.16.0)\n",
      "Note: you may need to restart the kernel to use updated packages.\n"
     ]
    }
   ],
   "source": [
    "pip install statsmodels"
   ]
  },
  {
   "cell_type": "code",
   "execution_count": 29,
   "id": "2a01edc1",
   "metadata": {},
   "outputs": [],
   "source": [
    "from statsmodels.multivariate.manova import MANOVA"
   ]
  },
  {
   "cell_type": "markdown",
   "id": "aa1ed113",
   "metadata": {},
   "source": [
    "Define the dependent variables (the CSA variables) and the independent variable ('Stain')"
   ]
  },
  {
   "cell_type": "code",
   "execution_count": 30,
   "id": "a95fc725",
   "metadata": {},
   "outputs": [],
   "source": [
    "dependent_vars = ['Hindgut_CSA', 'Midgut_CSA', 'Forgut_CSA', 'SG_CSA', 'brain_CSA']\n",
    "independent_var = 'Stain'"
   ]
  },
  {
   "cell_type": "markdown",
   "id": "bae37ec5",
   "metadata": {},
   "source": [
    "Drop rows with any missing values in the selected columns"
   ]
  },
  {
   "cell_type": "code",
   "execution_count": 31,
   "id": "8f198665",
   "metadata": {},
   "outputs": [],
   "source": [
    "df_clean = df.dropna(subset=[independent_var] + dependent_vars)"
   ]
  },
  {
   "cell_type": "markdown",
   "id": "47176a89",
   "metadata": {},
   "source": [
    "Perform MANOVA test"
   ]
  },
  {
   "cell_type": "code",
   "execution_count": 32,
   "id": "e372fb90",
   "metadata": {},
   "outputs": [],
   "source": [
    "manova = MANOVA.from_formula(f'{\"+\".join(dependent_vars)} ~ {independent_var}', data=df_clean)\n",
    "manova_result = manova.mv_test()"
   ]
  },
  {
   "cell_type": "code",
   "execution_count": 33,
   "id": "6a9f07a8",
   "metadata": {},
   "outputs": [
    {
     "name": "stdout",
     "output_type": "stream",
     "text": [
      "                  Multivariate linear model\n",
      "==============================================================\n",
      "                                                              \n",
      "--------------------------------------------------------------\n",
      "       Intercept         Value  Num DF  Den DF F Value  Pr > F\n",
      "--------------------------------------------------------------\n",
      "          Wilks' lambda  0.0546 5.0000 53.0000 183.4572 0.0000\n",
      "         Pillai's trace  0.9454 5.0000 53.0000 183.4572 0.0000\n",
      " Hotelling-Lawley trace 17.3073 5.0000 53.0000 183.4572 0.0000\n",
      "    Roy's greatest root 17.3073 5.0000 53.0000 183.4572 0.0000\n",
      "--------------------------------------------------------------\n",
      "                                                              \n",
      "--------------------------------------------------------------\n",
      "         Stain          Value   Num DF  Den DF  F Value Pr > F\n",
      "--------------------------------------------------------------\n",
      "          Wilks' lambda 0.1517 10.0000 106.0000 16.6138 0.0000\n",
      "         Pillai's trace 1.0929 10.0000 108.0000 13.0118 0.0000\n",
      " Hotelling-Lawley trace 3.9790 10.0000  76.8000 20.8355 0.0000\n",
      "    Roy's greatest root 3.5211  5.0000  54.0000 38.0281 0.0000\n",
      "==============================================================\n",
      "\n"
     ]
    }
   ],
   "source": [
    "print(manova_result)"
   ]
  },
  {
   "cell_type": "markdown",
   "id": "bd4f4535",
   "metadata": {},
   "source": [
    "Post-hoc Test (Tukey's HSD)"
   ]
  },
  {
   "cell_type": "code",
   "execution_count": 34,
   "id": "3ce28a2a",
   "metadata": {},
   "outputs": [],
   "source": [
    "from statsmodels.stats.multicomp import pairwise_tukeyhsd"
   ]
  },
  {
   "cell_type": "markdown",
   "id": "1be2d5b6",
   "metadata": {},
   "source": [
    "Run Tukey's HSD post-hoc test for each dependent variable"
   ]
  },
  {
   "cell_type": "code",
   "execution_count": 35,
   "id": "9eca28d8",
   "metadata": {},
   "outputs": [
    {
     "name": "stdout",
     "output_type": "stream",
     "text": [
      "\n",
      "Tukey HSD results for Hindgut_CSA:\n",
      "        Multiple Comparison of Means - Tukey HSD, FWER=0.05        \n",
      "===================================================================\n",
      "   group1      group2   meandiff p-adj    lower      upper   reject\n",
      "-------------------------------------------------------------------\n",
      "     Lugols Lugols_PTA1  284.434 0.9085 -1354.2574 1923.1254  False\n",
      "     Lugols Lugols_PTA2 4306.313    0.0  2667.6216 5945.0044   True\n",
      "Lugols_PTA1 Lugols_PTA2 4021.879    0.0  2383.1876 5660.5704   True\n",
      "-------------------------------------------------------------------\n",
      "\n",
      "Tukey HSD results for Midgut_CSA:\n",
      "        Multiple Comparison of Means - Tukey HSD, FWER=0.05        \n",
      "===================================================================\n",
      "   group1      group2   meandiff p-adj    lower      upper   reject\n",
      "-------------------------------------------------------------------\n",
      "     Lugols Lugols_PTA1 3429.783    0.0  1675.3594 5184.2066   True\n",
      "     Lugols Lugols_PTA2 3095.853 0.0002  1341.4294 4850.2766   True\n",
      "Lugols_PTA1 Lugols_PTA2  -333.93  0.891 -2088.3536 1420.4936  False\n",
      "-------------------------------------------------------------------\n",
      "\n",
      "Tukey HSD results for Forgut_CSA:\n",
      "         Multiple Comparison of Means - Tukey HSD, FWER=0.05         \n",
      "=====================================================================\n",
      "   group1      group2    meandiff  p-adj    lower      upper   reject\n",
      "---------------------------------------------------------------------\n",
      "     Lugols Lugols_PTA1   1985.799 0.4317 -1851.1256 5822.7236  False\n",
      "     Lugols Lugols_PTA2  -475.7395 0.9522 -4312.6641 3361.1851  False\n",
      "Lugols_PTA1 Lugols_PTA2 -2461.5385 0.2784 -6298.4631 1375.3861  False\n",
      "---------------------------------------------------------------------\n",
      "\n",
      "Tukey HSD results for SG_CSA:\n",
      "        Multiple Comparison of Means - Tukey HSD, FWER=0.05        \n",
      "===================================================================\n",
      "   group1      group2    meandiff p-adj    lower     upper   reject\n",
      "-------------------------------------------------------------------\n",
      "     Lugols Lugols_PTA1 -133.0605 0.4849 -410.3357  144.2147  False\n",
      "     Lugols Lugols_PTA2  997.0515    0.0  719.7763 1274.3267   True\n",
      "Lugols_PTA1 Lugols_PTA2  1130.112    0.0  852.8368 1407.3872   True\n",
      "-------------------------------------------------------------------\n",
      "\n",
      "Tukey HSD results for brain_CSA:\n",
      "         Multiple Comparison of Means - Tukey HSD, FWER=0.05          \n",
      "======================================================================\n",
      "   group1      group2    meandiff  p-adj    lower      upper    reject\n",
      "----------------------------------------------------------------------\n",
      "     Lugols Lugols_PTA1    480.759 0.7189  -1009.137   1970.655  False\n",
      "     Lugols Lugols_PTA2 -2215.2315  0.002 -3705.1275  -725.3355   True\n",
      "Lugols_PTA1 Lugols_PTA2 -2695.9905 0.0002 -4185.8865 -1206.0945   True\n",
      "----------------------------------------------------------------------\n"
     ]
    }
   ],
   "source": [
    "for var in dependent_vars:\n",
    "    tukey = pairwise_tukeyhsd(endog=df_clean[var], groups=df_clean[independent_var], alpha=0.05)\n",
    "    print(f'\\nTukey HSD results for {var}:')\n",
    "    print(tukey)"
   ]
  },
  {
   "cell_type": "markdown",
   "id": "749c58a8",
   "metadata": {},
   "source": [
    "Define the dependent variables (the vol variables) and the independent variable ('Stain')"
   ]
  },
  {
   "cell_type": "code",
   "execution_count": 36,
   "id": "7626b788",
   "metadata": {},
   "outputs": [],
   "source": [
    "dependent_vars = ['Hindgut_vol', 'Midgut_vol', 'Forgut_vol', 'SG_vol', 'brain_vol']\n",
    "independent_var = 'Stain'"
   ]
  },
  {
   "cell_type": "markdown",
   "id": "9f5a3699",
   "metadata": {},
   "source": [
    "Drop rows with any missing values in the selected columns"
   ]
  },
  {
   "cell_type": "code",
   "execution_count": 37,
   "id": "78e07261",
   "metadata": {},
   "outputs": [],
   "source": [
    "df_clean = df.dropna(subset=[independent_var] + dependent_vars)"
   ]
  },
  {
   "cell_type": "markdown",
   "id": "f7112902",
   "metadata": {},
   "source": [
    "MONOVA test"
   ]
  },
  {
   "cell_type": "code",
   "execution_count": 38,
   "id": "e07ea7e0",
   "metadata": {},
   "outputs": [],
   "source": [
    "manova = MANOVA.from_formula(f'{\"+\".join(dependent_vars)} ~ {independent_var}', data=df_clean)\n",
    "manova_result = manova.mv_test()"
   ]
  },
  {
   "cell_type": "code",
   "execution_count": 39,
   "id": "cda7b1d6",
   "metadata": {},
   "outputs": [
    {
     "name": "stdout",
     "output_type": "stream",
     "text": [
      "                  Multivariate linear model\n",
      "==============================================================\n",
      "                                                              \n",
      "--------------------------------------------------------------\n",
      "         Intercept        Value  Num DF  Den DF F Value Pr > F\n",
      "--------------------------------------------------------------\n",
      "            Wilks' lambda 0.2956 5.0000 53.0000 25.2556 0.0000\n",
      "           Pillai's trace 0.7044 5.0000 53.0000 25.2556 0.0000\n",
      "   Hotelling-Lawley trace 2.3826 5.0000 53.0000 25.2556 0.0000\n",
      "      Roy's greatest root 2.3826 5.0000 53.0000 25.2556 0.0000\n",
      "--------------------------------------------------------------\n",
      "                                                              \n",
      "--------------------------------------------------------------\n",
      "         Stain          Value   Num DF  Den DF  F Value Pr > F\n",
      "--------------------------------------------------------------\n",
      "          Wilks' lambda 0.1601 10.0000 106.0000 15.8879 0.0000\n",
      "         Pillai's trace 1.1270 10.0000 108.0000 13.9425 0.0000\n",
      " Hotelling-Lawley trace 3.4512 10.0000  76.8000 18.0717 0.0000\n",
      "    Roy's greatest root 2.8140  5.0000  54.0000 30.3912 0.0000\n",
      "==============================================================\n",
      "\n"
     ]
    }
   ],
   "source": [
    "print(manova_result)"
   ]
  },
  {
   "cell_type": "markdown",
   "id": "a7f4e62f",
   "metadata": {},
   "source": [
    "Tukey's posthoc test"
   ]
  },
  {
   "cell_type": "code",
   "execution_count": 40,
   "id": "1f127ee1",
   "metadata": {},
   "outputs": [
    {
     "name": "stdout",
     "output_type": "stream",
     "text": [
      "\n",
      "Tukey HSD results for Hindgut_vol:\n",
      "           Multiple Comparison of Means - Tukey HSD, FWER=0.05           \n",
      "=========================================================================\n",
      "   group1      group2     meandiff  p-adj     lower       upper    reject\n",
      "-------------------------------------------------------------------------\n",
      "     Lugols Lugols_PTA1  -4946.5185 0.9742 -59553.5385  49660.5015  False\n",
      "     Lugols Lugols_PTA2  126005.898    0.0   71398.878  180612.918   True\n",
      "Lugols_PTA1 Lugols_PTA2 130952.4165    0.0  76345.3965 185559.4365   True\n",
      "-------------------------------------------------------------------------\n",
      "\n",
      "Tukey HSD results for Midgut_vol:\n",
      "          Multiple Comparison of Means - Tukey HSD, FWER=0.05           \n",
      "========================================================================\n",
      "   group1      group2    meandiff  p-adj     lower       upper    reject\n",
      "------------------------------------------------------------------------\n",
      "     Lugols Lugols_PTA1 82139.6755 0.0081  18600.3024 145679.0486   True\n",
      "     Lugols Lugols_PTA2 75043.7015 0.0168  11504.3284 138583.0746   True\n",
      "Lugols_PTA1 Lugols_PTA2  -7095.974  0.961 -70635.3471  56443.3991  False\n",
      "------------------------------------------------------------------------\n",
      "\n",
      "Tukey HSD results for Forgut_vol:\n",
      "            Multiple Comparison of Means - Tukey HSD, FWER=0.05            \n",
      "===========================================================================\n",
      "   group1      group2     meandiff   p-adj     lower        upper    reject\n",
      "---------------------------------------------------------------------------\n",
      "     Lugols Lugols_PTA1   105425.414 0.0691   -6575.1138 217425.9418  False\n",
      "     Lugols Lugols_PTA2    4556.0525 0.9947 -107444.4753 116556.5803  False\n",
      "Lugols_PTA1 Lugols_PTA2 -100869.3615 0.0856 -212869.8893  11131.1663  False\n",
      "---------------------------------------------------------------------------\n",
      "\n",
      "Tukey HSD results for SG_vol:\n",
      "         Multiple Comparison of Means - Tukey HSD, FWER=0.05         \n",
      "=====================================================================\n",
      "   group1      group2    meandiff p-adj    lower      upper    reject\n",
      "---------------------------------------------------------------------\n",
      "     Lugols Lugols_PTA1 -822.0755 0.7768 -3737.2598  2093.1088  False\n",
      "     Lugols Lugols_PTA2 9325.7185    0.0  6410.5342 12240.9028   True\n",
      "Lugols_PTA1 Lugols_PTA2 10147.794    0.0  7232.6097 13062.9783   True\n",
      "---------------------------------------------------------------------\n",
      "\n",
      "Tukey HSD results for brain_vol:\n",
      "            Multiple Comparison of Means - Tukey HSD, FWER=0.05            \n",
      "===========================================================================\n",
      "   group1      group2     meandiff   p-adj     lower        upper    reject\n",
      "---------------------------------------------------------------------------\n",
      "     Lugols Lugols_PTA1  -159808.893 0.2993 -416464.0633  96846.2773  False\n",
      "     Lugols Lugols_PTA2 -204999.8915 0.1418 -461655.0618  51655.2788  False\n",
      "Lugols_PTA1 Lugols_PTA2  -45190.9985 0.9059 -301846.1688 211464.1718  False\n",
      "---------------------------------------------------------------------------\n"
     ]
    }
   ],
   "source": [
    "for var in dependent_vars:\n",
    "    tukey = pairwise_tukeyhsd(endog=df_clean[var], groups=df_clean[independent_var], alpha=0.05)\n",
    "    print(f'\\nTukey HSD results for {var}:')\n",
    "    print(tukey)"
   ]
  },
  {
   "cell_type": "markdown",
   "id": "be712608",
   "metadata": {},
   "source": [
    "MANOVA Tests of Volume measurements"
   ]
  },
  {
   "cell_type": "markdown",
   "id": "22d61149",
   "metadata": {},
   "source": [
    "Define the dependent and independent variables"
   ]
  },
  {
   "cell_type": "code",
   "execution_count": 41,
   "id": "932ce35d",
   "metadata": {},
   "outputs": [],
   "source": [
    "dependent_vars = ['Hindgut_PI', 'Midgut_PI', 'Forgut_PI', 'SG_PI', 'brain_PI']\n",
    "independent_var = 'Stain'"
   ]
  },
  {
   "cell_type": "code",
   "execution_count": 42,
   "id": "cdb77025",
   "metadata": {},
   "outputs": [],
   "source": [
    "df_clean = df.dropna(subset=[independent_var] + dependent_vars)"
   ]
  },
  {
   "cell_type": "markdown",
   "id": "d8ddf229",
   "metadata": {},
   "source": [
    "MANOVA test"
   ]
  },
  {
   "cell_type": "code",
   "execution_count": 43,
   "id": "868c4c5c",
   "metadata": {},
   "outputs": [],
   "source": [
    "manova = MANOVA.from_formula(f'{\"+\".join(dependent_vars)} ~ {independent_var}', data=df_clean)\n",
    "manova_result = manova.mv_test()"
   ]
  },
  {
   "cell_type": "code",
   "execution_count": 44,
   "id": "71052f15",
   "metadata": {},
   "outputs": [
    {
     "name": "stdout",
     "output_type": "stream",
     "text": [
      "                   Multivariate linear model\n",
      "================================================================\n",
      "                                                                \n",
      "----------------------------------------------------------------\n",
      "       Intercept         Value   Num DF  Den DF  F Value  Pr > F\n",
      "----------------------------------------------------------------\n",
      "          Wilks' lambda   0.0062 5.0000 53.0000 1692.0303 0.0000\n",
      "         Pillai's trace   0.9938 5.0000 53.0000 1692.0303 0.0000\n",
      " Hotelling-Lawley trace 159.6255 5.0000 53.0000 1692.0303 0.0000\n",
      "    Roy's greatest root 159.6255 5.0000 53.0000 1692.0303 0.0000\n",
      "----------------------------------------------------------------\n",
      "                                                                \n",
      "----------------------------------------------------------------\n",
      "           Stain          Value   Num DF  Den DF  F Value Pr > F\n",
      "----------------------------------------------------------------\n",
      "            Wilks' lambda 0.6312 10.0000 106.0000  2.7425 0.0048\n",
      "           Pillai's trace 0.4039 10.0000 108.0000  2.7326 0.0049\n",
      "   Hotelling-Lawley trace 0.5289 10.0000  76.8000  2.7696 0.0057\n",
      "      Roy's greatest root 0.3848  5.0000  54.0000  4.1554 0.0029\n",
      "================================================================\n",
      "\n"
     ]
    }
   ],
   "source": [
    "print(manova_result)"
   ]
  },
  {
   "cell_type": "markdown",
   "id": "327c4f33",
   "metadata": {},
   "source": [
    "Tukey's Posthoc test"
   ]
  },
  {
   "cell_type": "code",
   "execution_count": 45,
   "id": "260020b1",
   "metadata": {},
   "outputs": [
    {
     "name": "stdout",
     "output_type": "stream",
     "text": [
      "\n",
      "Tukey HSD results for Hindgut_PI:\n",
      "     Multiple Comparison of Means - Tukey HSD, FWER=0.05     \n",
      "=============================================================\n",
      "   group1      group2   meandiff p-adj   lower  upper  reject\n",
      "-------------------------------------------------------------\n",
      "     Lugols Lugols_PTA1     0.75 0.9647 -6.3156 7.8156  False\n",
      "     Lugols Lugols_PTA2     2.25  0.725 -4.8156 9.3156  False\n",
      "Lugols_PTA1 Lugols_PTA2      1.5 0.8664 -5.5656 8.5656  False\n",
      "-------------------------------------------------------------\n",
      "\n",
      "Tukey HSD results for Midgut_PI:\n",
      "     Multiple Comparison of Means - Tukey HSD, FWER=0.05      \n",
      "==============================================================\n",
      "   group1      group2   meandiff p-adj   lower   upper  reject\n",
      "--------------------------------------------------------------\n",
      "     Lugols Lugols_PTA1      7.9 0.0039  2.2458 13.5542   True\n",
      "     Lugols Lugols_PTA2      5.8 0.0432  0.1458 11.4542   True\n",
      "Lugols_PTA1 Lugols_PTA2     -2.1 0.6464 -7.7542  3.5542  False\n",
      "--------------------------------------------------------------\n",
      "\n",
      "Tukey HSD results for Forgut_PI:\n",
      "     Multiple Comparison of Means - Tukey HSD, FWER=0.05     \n",
      "=============================================================\n",
      "   group1      group2   meandiff p-adj   lower  upper  reject\n",
      "-------------------------------------------------------------\n",
      "     Lugols Lugols_PTA1     4.85 0.0317  0.3539 9.3461   True\n",
      "     Lugols Lugols_PTA2      4.2 0.0718 -0.2961 8.6961  False\n",
      "Lugols_PTA1 Lugols_PTA2    -0.65 0.9355 -5.1461 3.8461  False\n",
      "-------------------------------------------------------------\n",
      "\n",
      "Tukey HSD results for SG_PI:\n",
      "      Multiple Comparison of Means - Tukey HSD, FWER=0.05      \n",
      "===============================================================\n",
      "   group1      group2   meandiff p-adj   lower    upper  reject\n",
      "---------------------------------------------------------------\n",
      "     Lugols Lugols_PTA1     3.45 0.7135  -7.1221 14.0221  False\n",
      "     Lugols Lugols_PTA2     -7.6  0.203 -18.1721  2.9721  False\n",
      "Lugols_PTA1 Lugols_PTA2   -11.05 0.0386 -21.6221 -0.4779   True\n",
      "---------------------------------------------------------------\n",
      "\n",
      "Tukey HSD results for brain_PI:\n",
      "      Multiple Comparison of Means - Tukey HSD, FWER=0.05      \n",
      "===============================================================\n",
      "   group1      group2   meandiff p-adj   lower    upper  reject\n",
      "---------------------------------------------------------------\n",
      "     Lugols Lugols_PTA1    -8.55 0.1163 -18.7296  1.6296  False\n",
      "     Lugols Lugols_PTA2    -2.55 0.8192 -12.7296  7.6296  False\n",
      "Lugols_PTA1 Lugols_PTA2      6.0 0.3383  -4.1796 16.1796  False\n",
      "---------------------------------------------------------------\n"
     ]
    }
   ],
   "source": [
    "for var in dependent_vars:\n",
    "    tukey = pairwise_tukeyhsd(endog=df_clean[var], groups=df_clean[independent_var], alpha=0.05)\n",
    "    print(f'\\nTukey HSD results for {var}:')\n",
    "    print(tukey)"
   ]
  },
  {
   "cell_type": "markdown",
   "id": "4eed826b",
   "metadata": {},
   "source": [
    "Additional Analyses"
   ]
  },
  {
   "cell_type": "markdown",
   "id": "7ad8efd5",
   "metadata": {},
   "source": [
    "Install Necessary Libraries"
   ]
  },
  {
   "cell_type": "code",
   "execution_count": 46,
   "id": "0a0a19a8",
   "metadata": {},
   "outputs": [
    {
     "name": "stdout",
     "output_type": "stream",
     "text": [
      "Requirement already satisfied: scikit-learn in c:\\users\\sblam\\anaconda3\\lib\\site-packages (1.3.0)\n",
      "Requirement already satisfied: numpy>=1.17.3 in c:\\users\\sblam\\anaconda3\\lib\\site-packages (from scikit-learn) (1.24.3)\n",
      "Requirement already satisfied: scipy>=1.5.0 in c:\\users\\sblam\\anaconda3\\lib\\site-packages (from scikit-learn) (1.10.1)\n",
      "Requirement already satisfied: joblib>=1.1.1 in c:\\users\\sblam\\anaconda3\\lib\\site-packages (from scikit-learn) (1.2.0)\n",
      "Requirement already satisfied: threadpoolctl>=2.0.0 in c:\\users\\sblam\\anaconda3\\lib\\site-packages (from scikit-learn) (2.2.0)\n",
      "Note: you may need to restart the kernel to use updated packages.\n"
     ]
    }
   ],
   "source": [
    "pip install scikit-learn"
   ]
  },
  {
   "cell_type": "markdown",
   "id": "cc759786",
   "metadata": {},
   "source": [
    " GPA (Generalized Procrustes Analysis) and PCA (Principal Component Analysis)"
   ]
  },
  {
   "cell_type": "code",
   "execution_count": 47,
   "id": "22e28d87",
   "metadata": {},
   "outputs": [],
   "source": [
    "from sklearn.decomposition import PCA\n",
    "from scipy.spatial import procrustes"
   ]
  },
  {
   "cell_type": "markdown",
   "id": "70c64e27",
   "metadata": {},
   "source": [
    "Extract only the Float64 columns (variables)"
   ]
  },
  {
   "cell_type": "code",
   "execution_count": 48,
   "id": "0b47a750",
   "metadata": {},
   "outputs": [],
   "source": [
    "float_columns = df.select_dtypes(include=['float64']).dropna()"
   ]
  },
  {
   "cell_type": "markdown",
   "id": "4d77c591",
   "metadata": {},
   "source": [
    "Standardize the data (mean=0, variance=1) for GPA and PCA"
   ]
  },
  {
   "cell_type": "code",
   "execution_count": 49,
   "id": "787f1387",
   "metadata": {},
   "outputs": [],
   "source": [
    "float_columns_standardized = (float_columns - float_columns.mean()) / float_columns.std()"
   ]
  },
  {
   "cell_type": "markdown",
   "id": "7961aaa5",
   "metadata": {},
   "source": [
    "Generalized Procrustes Analysis (GPA) - pairwise approach\n",
    "Use the scipy procrustes function to align the matrices pairwise"
   ]
  },
  {
   "cell_type": "code",
   "execution_count": 50,
   "id": "2991e0b7",
   "metadata": {},
   "outputs": [],
   "source": [
    "def generalized_procrustes_analysis(data):\n",
    "    # Ensure we have more than one unique point\n",
    "    unique_data = data.drop_duplicates()\n",
    "    if len(unique_data) < 2:\n",
    "        raise ValueError(\"Input matrices must contain >1 unique points\")\n",
    "\n",
    "    # Use the first observation as the reference\n",
    "    ref_matrix = unique_data.iloc[0].values.reshape(1, -1)\n",
    "    aligned_matrices = [ref_matrix]\n",
    "    \n",
    "    for i in range(1, len(unique_data)):\n",
    "        # Get the current matrix to align\n",
    "        current_matrix = unique_data.iloc[i].values.reshape(1, -1)\n",
    "        # Perform procrustes analysis\n",
    "        _, mtx2, _ = procrustes(ref_matrix, current_matrix)\n",
    "        aligned_matrices.append(mtx2)\n",
    "\n",
    "    return np.vstack(aligned_matrices)"
   ]
  },
  {
   "cell_type": "code",
   "execution_count": 51,
   "id": "0adf7118",
   "metadata": {},
   "outputs": [
    {
     "ename": "ValueError",
     "evalue": "Input matrices must contain >1 unique points",
     "output_type": "error",
     "traceback": [
      "\u001b[1;31m---------------------------------------------------------------------------\u001b[0m",
      "\u001b[1;31mValueError\u001b[0m                                Traceback (most recent call last)",
      "Cell \u001b[1;32mIn[51], line 1\u001b[0m\n\u001b[1;32m----> 1\u001b[0m gpa_result \u001b[38;5;241m=\u001b[39m generalized_procrustes_analysis(float_columns_standardized)\n",
      "Cell \u001b[1;32mIn[50], line 15\u001b[0m, in \u001b[0;36mgeneralized_procrustes_analysis\u001b[1;34m(data)\u001b[0m\n\u001b[0;32m     13\u001b[0m     current_matrix \u001b[38;5;241m=\u001b[39m unique_data\u001b[38;5;241m.\u001b[39miloc[i]\u001b[38;5;241m.\u001b[39mvalues\u001b[38;5;241m.\u001b[39mreshape(\u001b[38;5;241m1\u001b[39m, \u001b[38;5;241m-\u001b[39m\u001b[38;5;241m1\u001b[39m)\n\u001b[0;32m     14\u001b[0m     \u001b[38;5;66;03m# Perform procrustes analysis\u001b[39;00m\n\u001b[1;32m---> 15\u001b[0m     _, mtx2, _ \u001b[38;5;241m=\u001b[39m procrustes(ref_matrix, current_matrix)\n\u001b[0;32m     16\u001b[0m     aligned_matrices\u001b[38;5;241m.\u001b[39mappend(mtx2)\n\u001b[0;32m     18\u001b[0m \u001b[38;5;28;01mreturn\u001b[39;00m np\u001b[38;5;241m.\u001b[39mvstack(aligned_matrices)\n",
      "File \u001b[1;32m~\\anaconda3\\Lib\\site-packages\\scipy\\spatial\\_procrustes.py:118\u001b[0m, in \u001b[0;36mprocrustes\u001b[1;34m(data1, data2)\u001b[0m\n\u001b[0;32m    115\u001b[0m norm2 \u001b[38;5;241m=\u001b[39m np\u001b[38;5;241m.\u001b[39mlinalg\u001b[38;5;241m.\u001b[39mnorm(mtx2)\n\u001b[0;32m    117\u001b[0m \u001b[38;5;28;01mif\u001b[39;00m norm1 \u001b[38;5;241m==\u001b[39m \u001b[38;5;241m0\u001b[39m \u001b[38;5;129;01mor\u001b[39;00m norm2 \u001b[38;5;241m==\u001b[39m \u001b[38;5;241m0\u001b[39m:\n\u001b[1;32m--> 118\u001b[0m     \u001b[38;5;28;01mraise\u001b[39;00m \u001b[38;5;167;01mValueError\u001b[39;00m(\u001b[38;5;124m\"\u001b[39m\u001b[38;5;124mInput matrices must contain >1 unique points\u001b[39m\u001b[38;5;124m\"\u001b[39m)\n\u001b[0;32m    120\u001b[0m \u001b[38;5;66;03m# change scaling of data (in rows) such that trace(mtx*mtx') = 1\u001b[39;00m\n\u001b[0;32m    121\u001b[0m mtx1 \u001b[38;5;241m/\u001b[39m\u001b[38;5;241m=\u001b[39m norm1\n",
      "\u001b[1;31mValueError\u001b[0m: Input matrices must contain >1 unique points"
     ]
    }
   ],
   "source": [
    "gpa_result = generalized_procrustes_analysis(float_columns_standardized)"
   ]
  },
  {
   "cell_type": "code",
   "execution_count": 52,
   "id": "c800c5d6",
   "metadata": {},
   "outputs": [
    {
     "ename": "NameError",
     "evalue": "name 'gpa_result' is not defined",
     "output_type": "error",
     "traceback": [
      "\u001b[1;31m---------------------------------------------------------------------------\u001b[0m",
      "\u001b[1;31mNameError\u001b[0m                                 Traceback (most recent call last)",
      "Cell \u001b[1;32mIn[52], line 1\u001b[0m\n\u001b[1;32m----> 1\u001b[0m \u001b[38;5;28mprint\u001b[39m(\u001b[38;5;124m\"\u001b[39m\u001b[38;5;124mGPA Result Shape:\u001b[39m\u001b[38;5;124m\"\u001b[39m, gpa_result\u001b[38;5;241m.\u001b[39mshape)\n",
      "\u001b[1;31mNameError\u001b[0m: name 'gpa_result' is not defined"
     ]
    }
   ],
   "source": [
    "print(\"GPA Result Shape:\", gpa_result.shape)"
   ]
  },
  {
   "cell_type": "markdown",
   "id": "078baf38",
   "metadata": {},
   "source": [
    "PCA Analysis"
   ]
  },
  {
   "cell_type": "code",
   "execution_count": 53,
   "id": "16f106a3",
   "metadata": {},
   "outputs": [],
   "source": [
    "pca = PCA()\n",
    "pca_result = pca.fit(float_columns_standardized)"
   ]
  },
  {
   "cell_type": "markdown",
   "id": "87b33aa7",
   "metadata": {},
   "source": [
    "Get the explained variance ratio (importance of each feature)"
   ]
  },
  {
   "cell_type": "code",
   "execution_count": 54,
   "id": "095faaee",
   "metadata": {},
   "outputs": [],
   "source": [
    "explained_variance_ratio = pca.explained_variance_ratio_"
   ]
  },
  {
   "cell_type": "markdown",
   "id": "39a4a3d8",
   "metadata": {},
   "source": [
    "Create a DataFrame to plot PCA results"
   ]
  },
  {
   "cell_type": "code",
   "execution_count": 55,
   "id": "549fe7d5",
   "metadata": {},
   "outputs": [],
   "source": [
    "pca_df = pd.DataFrame({'Feature': float_columns.columns, 'Relative Importance': explained_variance_ratio})"
   ]
  },
  {
   "cell_type": "markdown",
   "id": "b24a71da",
   "metadata": {},
   "source": [
    "Plot the Relative Importance against Feature (variables)"
   ]
  },
  {
   "cell_type": "code",
   "execution_count": 56,
   "id": "a3469d7d",
   "metadata": {},
   "outputs": [
    {
     "data": {
      "image/png": "[encoded data removed]",
      "text/plain": [
       "<Figure size 1000x600 with 1 Axes>"
      ]
     },
     "metadata": {},
     "output_type": "display_data"
    }
   ],
   "source": [
    "plt.figure(figsize=(10, 6))\n",
    "plt.bar(pca_df['Feature'], pca_df['Relative Importance'], color='skyblue')\n",
    "plt.xlabel('Feature')\n",
    "plt.ylabel('Relative Importance')\n",
    "plt.title('Relative Importance of Features (PCA)')\n",
    "plt.xticks(rotation=45, ha='right')\n",
    "plt.tight_layout()\n",
    "plt.show()"
   ]
  },
  {
   "cell_type": "markdown",
   "id": "ecde7384",
   "metadata": {},
   "source": [
    "Box plots of PTC values"
   ]
  },
  {
   "cell_type": "markdown",
   "id": "7e01d6d8",
   "metadata": {},
   "source": [
    "Import seaborn"
   ]
  },
  {
   "cell_type": "code",
   "execution_count": 57,
   "id": "cdd3a3dc",
   "metadata": {},
   "outputs": [],
   "source": [
    "import seaborn as sns"
   ]
  },
  {
   "cell_type": "markdown",
   "id": "2548c9bb",
   "metadata": {},
   "source": [
    "Filter the dataframe to include only the relevant Stain categories and PTC variables"
   ]
  },
  {
   "cell_type": "code",
   "execution_count": 58,
   "id": "d4beeb16",
   "metadata": {},
   "outputs": [],
   "source": [
    "filtered_df = df[df['Stain'].isin(['Lugols', 'Lugols_PTA1', 'Lugols_PTA2'])]"
   ]
  },
  {
   "cell_type": "markdown",
   "id": "7f4f1fef",
   "metadata": {},
   "source": [
    "Melt the dataframe to transform it into long format for seaborn plotting"
   ]
  },
  {
   "cell_type": "code",
   "execution_count": 59,
   "id": "81339cf6",
   "metadata": {},
   "outputs": [],
   "source": [
    "ptc_columns = ['Hindgut_PTC', 'Midgut_PTC', 'Forgut_PTC', 'SG_PTC', 'brain_PTC']\n",
    "melted_df = pd.melt(filtered_df, id_vars=['Stain'], value_vars=ptc_columns, \n",
    "                    var_name='PTC_Type', value_name='PTC_Value')"
   ]
  },
  {
   "cell_type": "markdown",
   "id": "52e29017",
   "metadata": {},
   "source": [
    "Map the old PTC_Type names to new descriptive labels"
   ]
  },
  {
   "cell_type": "code",
   "execution_count": 60,
   "id": "5ea3e22f",
   "metadata": {},
   "outputs": [],
   "source": [
    "label_mapping = {\n",
    "    'Hindgut_PTC': 'hindgut',\n",
    "    'Midgut_PTC': 'midgut',\n",
    "    'Forgut_PTC': 'forgut',\n",
    "    'SG_PTC': 'salivary gland',\n",
    "    'brain_PTC': 'brain'\n",
    "}\n",
    "melted_df['PTC_Type'] = melted_df['PTC_Type'].map(label_mapping)"
   ]
  },
  {
   "cell_type": "markdown",
   "id": "5895187f",
   "metadata": {},
   "source": [
    "Create the box plots"
   ]
  },
  {
   "cell_type": "code",
   "execution_count": 61,
   "id": "db7ac8ae",
   "metadata": {},
   "outputs": [
    {
     "data": {
      "text/plain": [
       "Text(0, 0.5, 'PTC Value')"
      ]
     },
     "execution_count": 61,
     "metadata": {},
     "output_type": "execute_result"
    },
    {
     "data": {
      "image/png": "[encoded data removed]",
      "text/plain": [
       "<Figure size 1000x600 with 1 Axes>"
      ]
     },
     "metadata": {},
     "output_type": "display_data"
    }
   ],
   "source": [
    "plt.figure(figsize=(10, 6))\n",
    "sns.boxplot(x='PTC_Type', y='PTC_Value', hue='Stain', data=melted_df, palette='Set2')\n",
    "plt.xlabel('Stained Tissue')\n",
    "plt.ylabel('PTC Value')"
   ]
  },
  {
   "cell_type": "code",
   "execution_count": 62,
   "id": "67818123",
   "metadata": {},
   "outputs": [
    {
     "data": {
      "text/plain": [
       "Text(0, 0.5, 'PTC Value')"
      ]
     },
     "execution_count": 62,
     "metadata": {},
     "output_type": "execute_result"
    },
    {
     "data": {
      "image/png": "[encoded data removed]",
      "text/plain": [
       "<Figure size 1000x600 with 1 Axes>"
      ]
     },
     "metadata": {},
     "output_type": "display_data"
    }
   ],
   "source": [
    "plt.figure(figsize=(10, 6))\n",
    "sns.boxplot(x='PTC_Type', y='PTC_Value', hue='Stain', data=melted_df, palette='Set2')\n",
    "plt.xlabel('Stained Tissue')\n",
    "plt.ylabel('PTC Value')"
   ]
  },
  {
   "cell_type": "code",
   "execution_count": 63,
   "id": "0b44dc63",
   "metadata": {},
   "outputs": [
    {
     "data": {
      "text/plain": [
       "(array([0. , 0.2, 0.4, 0.6, 0.8, 1. ]),\n",
       " [Text(0.0, 0, '0.0'),\n",
       "  Text(0.2, 0, '0.2'),\n",
       "  Text(0.4, 0, '0.4'),\n",
       "  Text(0.6000000000000001, 0, '0.6'),\n",
       "  Text(0.8, 0, '0.8'),\n",
       "  Text(1.0, 0, '1.0')])"
      ]
     },
     "execution_count": 63,
     "metadata": {},
     "output_type": "execute_result"
    },
    {
     "data": {
      "image/png": "[encoded data removed]",
      "text/plain": [
       "<Figure size 640x480 with 1 Axes>"
      ]
     },
     "metadata": {},
     "output_type": "display_data"
    }
   ],
   "source": [
    "# Rotate the x-axis labels for readability\n",
    "plt.xticks(rotation=45)"
   ]
  },
  {
   "cell_type": "code",
   "execution_count": 64,
   "id": "07db02a0",
   "metadata": {},
   "outputs": [
    {
     "data": {
      "text/plain": [
       "<Figure size 640x480 with 0 Axes>"
      ]
     },
     "metadata": {},
     "output_type": "display_data"
    }
   ],
   "source": [
    "plt.tight_layout()\n",
    "plt.show()"
   ]
  },
  {
   "cell_type": "code",
   "execution_count": 65,
   "id": "bc07ef9f",
   "metadata": {},
   "outputs": [],
   "source": [
    "import numpy as np"
   ]
  },
  {
   "cell_type": "code",
   "execution_count": 66,
   "id": "ba101433",
   "metadata": {},
   "outputs": [],
   "source": [
    "from sklearn.preprocessing import StandardScaler"
   ]
  },
  {
   "cell_type": "code",
   "execution_count": 67,
   "id": "a9fe8b76",
   "metadata": {},
   "outputs": [],
   "source": [
    "from sklearn.decomposition import PCA\n",
    "from sklearn.preprocessing import StandardScaler"
   ]
  },
  {
   "cell_type": "code",
   "execution_count": 68,
   "id": "1543c14e",
   "metadata": {},
   "outputs": [],
   "source": [
    "import seaborn as sns"
   ]
  },
  {
   "cell_type": "code",
   "execution_count": 69,
   "id": "7f10173e",
   "metadata": {},
   "outputs": [],
   "source": [
    "# Standardization\n",
    "scaler = StandardScaler()"
   ]
  },
  {
   "cell_type": "code",
   "execution_count": 70,
   "id": "4db45f6d",
   "metadata": {},
   "outputs": [],
   "source": [
    "pca = PCA(n_components=2)"
   ]
  },
  {
   "cell_type": "code",
   "execution_count": 71,
   "id": "585df53d",
   "metadata": {},
   "outputs": [],
   "source": [
    "# Select the relevant columns\n",
    "selected_columns = [\n",
    "    'Hindgut_vol', 'Hindgut_CSA', 'Hindgut_PTC', 'Hindgut_PI',\n",
    "    'Midgut_vol', 'Midgut_CSA', 'Midgut_PTC', 'Midgut_PI',\n",
    "    'Forgut_vol', 'Forgut_CSA', 'Forgut_PTC', 'Forgut_PI'\n",
    "]"
   ]
  },
  {
   "cell_type": "markdown",
   "id": "de14f66b",
   "metadata": {},
   "source": [
    "Drop rows with missing values in the selected columns"
   ]
  },
  {
   "cell_type": "code",
   "execution_count": 72,
   "id": "1ec0972d",
   "metadata": {},
   "outputs": [],
   "source": [
    "df_selected = df[selected_columns].dropna()"
   ]
  },
  {
   "cell_type": "markdown",
   "id": "1d186920",
   "metadata": {},
   "source": [
    "Standardize the data"
   ]
  },
  {
   "cell_type": "code",
   "execution_count": 73,
   "id": "f4249e39",
   "metadata": {},
   "outputs": [],
   "source": [
    "scaler = StandardScaler()\n",
    "df_standardized = scaler.fit_transform(df_selected)"
   ]
  },
  {
   "cell_type": "markdown",
   "id": "b56651ad",
   "metadata": {},
   "source": []
  },
  {
   "cell_type": "code",
   "execution_count": 74,
   "id": "20be7e93",
   "metadata": {},
   "outputs": [],
   "source": [
    "principal_components = pca.fit_transform(df_standardized)"
   ]
  },
  {
   "cell_type": "markdown",
   "id": "9ffd4986",
   "metadata": {},
   "source": [
    "Create a dataframe for PC1 and PC2"
   ]
  },
  {
   "cell_type": "code",
   "execution_count": 75,
   "id": "06d786a0",
   "metadata": {},
   "outputs": [],
   "source": [
    "pc_df = pd.DataFrame(principal_components, columns=['PC1', 'PC2'])"
   ]
  },
  {
   "cell_type": "markdown",
   "id": "05c927b5",
   "metadata": {},
   "source": [
    "Print the explained variance ratio"
   ]
  },
  {
   "cell_type": "code",
   "execution_count": 76,
   "id": "8be50124",
   "metadata": {},
   "outputs": [
    {
     "name": "stdout",
     "output_type": "stream",
     "text": [
      "Explained variance by PC1: 0.24\n",
      "Explained variance by PC2: 0.13\n"
     ]
    }
   ],
   "source": [
    "explained_variance = pca.explained_variance_ratio_\n",
    "print(f\"Explained variance by PC1: {explained_variance[0]:.2f}\")\n",
    "print(f\"Explained variance by PC2: {explained_variance[1]:.2f}\")"
   ]
  },
  {
   "cell_type": "markdown",
   "id": "a37dcce1",
   "metadata": {},
   "source": [
    "Display first few rows of the PC1 and PC2 values"
   ]
  },
  {
   "cell_type": "code",
   "execution_count": 77,
   "id": "d4803ea2",
   "metadata": {},
   "outputs": [
    {
     "name": "stdout",
     "output_type": "stream",
     "text": [
      "        PC1       PC2\n",
      "0  3.320245  6.259882\n",
      "1 -0.286118  0.001672\n",
      "2  2.782610 -0.105977\n",
      "3  2.445011 -0.079856\n",
      "4  1.652252 -1.379476\n"
     ]
    }
   ],
   "source": [
    "print(pc_df.head())"
   ]
  },
  {
   "cell_type": "markdown",
   "id": "db30ff9f",
   "metadata": {},
   "source": [
    "PCA Biplot"
   ]
  },
  {
   "cell_type": "markdown",
   "id": "35eda3ae",
   "metadata": {},
   "source": [
    "Get the loadings (contributions of each feature to PC1 and PC2)"
   ]
  },
  {
   "cell_type": "code",
   "execution_count": 78,
   "id": "439b5ea2",
   "metadata": {},
   "outputs": [],
   "source": [
    "selected_columns = [\n",
    "    'Hindgut_vol', 'Hindgut_CSA', 'Hindgut_PTC', 'Hindgut_PI',\n",
    "    'Midgut_vol', 'Midgut_CSA', 'Midgut_PTC', 'Midgut_PI',\n",
    "    'Forgut_vol', 'Forgut_CSA', 'Forgut_PTC', 'Forgut_PI'\n",
    "]"
   ]
  },
  {
   "cell_type": "code",
   "execution_count": 79,
   "id": "f2112357",
   "metadata": {},
   "outputs": [
    {
     "data": {
      "text/plain": [
       "<matplotlib.collections.PathCollection at 0x2353c286610>"
      ]
     },
     "execution_count": 79,
     "metadata": {},
     "output_type": "execute_result"
    },
    {
     "data": {
      "image/png": "[encoded data removed]",
      "text/plain": [
       "<Figure size 640x480 with 1 Axes>"
      ]
     },
     "metadata": {},
     "output_type": "display_data"
    }
   ],
   "source": [
    "# Scatter plot of PC1 vs PC2\n",
    "plt.scatter(principal_components[:, 0], principal_components[:, 1], alpha=0.7, color='blue', label='Data points')"
   ]
  },
  {
   "cell_type": "code",
   "execution_count": 80,
   "id": "0fe87e10",
   "metadata": {},
   "outputs": [],
   "source": [
    "loadings = pca.components_.T"
   ]
  },
  {
   "cell_type": "code",
   "execution_count": 81,
   "id": "0b089c87",
   "metadata": {},
   "outputs": [
    {
     "name": "stdout",
     "output_type": "stream",
     "text": [
      "PCA Shape: (60, 2)\n"
     ]
    }
   ],
   "source": [
    "# Check shape to confirm it worked\n",
    "print(\"PCA Shape:\", principal_components.shape)"
   ]
  },
  {
   "cell_type": "markdown",
   "id": "d85492d4",
   "metadata": {},
   "source": [
    "Create the biplot"
   ]
  },
  {
   "cell_type": "code",
   "execution_count": 82,
   "id": "97d37224",
   "metadata": {},
   "outputs": [
    {
     "data": {
      "image/png": "[encoded data removed]",
      "text/plain": [
       "<Figure size 1000x700 with 1 Axes>"
      ]
     },
     "metadata": {},
     "output_type": "display_data"
    }
   ],
   "source": [
    "fig, ax = plt.subplots(figsize=(10, 7))"
   ]
  },
  {
   "cell_type": "code",
   "execution_count": 83,
   "id": "e8be4cd4",
   "metadata": {},
   "outputs": [
    {
     "data": {
      "text/plain": [
       "<matplotlib.collections.PathCollection at 0x2353c2a01d0>"
      ]
     },
     "execution_count": 83,
     "metadata": {},
     "output_type": "execute_result"
    }
   ],
   "source": [
    "# Scatter plot of PC1 vs PC2\n",
    "ax.scatter(principal_components[:, 0], principal_components[:, 1], alpha=0.7, color='blue', label='Data points')"
   ]
  },
  {
   "cell_type": "markdown",
   "id": "e108a0b8",
   "metadata": {},
   "source": [
    "Add feature vectors (arrows)"
   ]
  },
  {
   "cell_type": "code",
   "execution_count": 84,
   "id": "ea599801",
   "metadata": {},
   "outputs": [],
   "source": [
    "feature_labels = selected_columns\n",
    "for i, feature in enumerate(feature_labels):\n",
    "    ax.arrow(0, 0, loadings[i, 0] * 3, loadings[i, 1] * 3, color='red', alpha=0.7, head_width=0.1)\n",
    "    ax.text(loadings[i, 0] * 3.2, loadings[i, 1] * 3.2, feature, color='black', fontsize=12)"
   ]
  },
  {
   "cell_type": "markdown",
   "id": "60fe8751",
   "metadata": {},
   "source": [
    "Add Labels and Title"
   ]
  },
  {
   "cell_type": "code",
   "execution_count": 85,
   "id": "ad78339d",
   "metadata": {},
   "outputs": [],
   "source": [
    "ax.set_xlabel(\"PC1\", fontsize=14)\n",
    "ax.set_ylabel(\"PC2\", fontsize=14)\n",
    "ax.set_title(\"Biplot of PC1 vs PC2\", fontsize=16)\n",
    "ax.axhline(0, color='gray', linewidth=0.5)\n",
    "ax.axvline(0, color='gray', linewidth=0.5)\n",
    "ax.grid(True, linestyle='--', alpha=0.5)"
   ]
  },
  {
   "cell_type": "code",
   "execution_count": 86,
   "id": "c7365b1c",
   "metadata": {},
   "outputs": [],
   "source": [
    "plt.show()"
   ]
  },
  {
   "cell_type": "code",
   "execution_count": 87,
   "id": "fedd3888",
   "metadata": {},
   "outputs": [
    {
     "data": {
      "text/plain": [
       "<Figure size 1000x700 with 0 Axes>"
      ]
     },
     "execution_count": 87,
     "metadata": {},
     "output_type": "execute_result"
    },
    {
     "data": {
      "text/plain": [
       "<Figure size 1000x700 with 0 Axes>"
      ]
     },
     "metadata": {},
     "output_type": "display_data"
    }
   ],
   "source": [
    "# Create a fresh figure\n",
    "plt.figure(figsize=(10, 7))"
   ]
  },
  {
   "cell_type": "code",
   "execution_count": 88,
   "id": "a2d27112",
   "metadata": {},
   "outputs": [
    {
     "data": {
      "text/plain": [
       "<matplotlib.collections.PathCollection at 0x2353c3b8e10>"
      ]
     },
     "execution_count": 88,
     "metadata": {},
     "output_type": "execute_result"
    },
    {
     "data": {
      "image/png": "[encoded data removed]",
      "text/plain": [
       "<Figure size 640x480 with 1 Axes>"
      ]
     },
     "metadata": {},
     "output_type": "display_data"
    }
   ],
   "source": [
    "# Scatter plot of PC1 vs PC2\n",
    "plt.scatter(principal_components[:, 0], principal_components[:, 1], alpha=0.7, color='blue', label='Data points')"
   ]
  },
  {
   "cell_type": "code",
   "execution_count": 89,
   "id": "8f16f61a",
   "metadata": {},
   "outputs": [
    {
     "data": {
      "image/png": "[encoded data removed]",
      "text/plain": [
       "<Figure size 640x480 with 1 Axes>"
      ]
     },
     "metadata": {},
     "output_type": "display_data"
    }
   ],
   "source": [
    "# Add feature vectors (arrows)\n",
    "for i, feature in enumerate(selected_columns):\n",
    "    plt.arrow(0, 0, loadings[i, 0] * 3, loadings[i, 1] * 3, color='red', alpha=0.7, head_width=0.1)\n",
    "    plt.text(loadings[i, 0] * 3.2, loadings[i, 1] * 3.2, feature, color='black', fontsize=8)\n"
   ]
  },
  {
   "cell_type": "code",
   "execution_count": 91,
   "id": "8040b2a2",
   "metadata": {},
   "outputs": [
    {
     "data": {
      "image/png": "[encoded data removed]",
      "text/plain": [
       "<Figure size 640x480 with 1 Axes>"
      ]
     },
     "metadata": {},
     "output_type": "display_data"
    }
   ],
   "source": [
    "# Modify feature vectors (arrows)\n",
    "for i, feature in enumerate(selected_columns):\n",
    "    plt.arrow(0, 0, loadings[i, 0] * 3, loadings[i, 1] * 3, color='red', alpha=0.7, head_width=0.1)"
   ]
  },
  {
   "cell_type": "code",
   "execution_count": 93,
   "id": "af698e5f",
   "metadata": {},
   "outputs": [
    {
     "data": {
      "image/png": "[encoded data removed]",
      "text/plain": [
       "<Figure size 640x480 with 1 Axes>"
      ]
     },
     "metadata": {},
     "output_type": "display_data"
    }
   ],
   "source": [
    "# Labels and Title\n",
    "plt.xlabel(\"PC1\", fontsize=14)\n",
    "plt.ylabel(\"PC2\", fontsize=14)\n",
    "plt.title(\"Biplot of PC1 vs PC2\", fontsize=16)\n",
    "plt.axhline(0, color='gray', linewidth=0.5)\n",
    "plt.axvline(0, color='gray', linewidth=0.5)\n",
    "plt.grid(True, linestyle='--', alpha=0.5)"
   ]
  },
  {
   "cell_type": "code",
   "execution_count": 92,
   "id": "0c342ba7",
   "metadata": {},
   "outputs": [],
   "source": [
    "plt.show()"
   ]
  },
  {
   "cell_type": "code",
   "execution_count": null,
   "id": "77180237",
   "metadata": {},
   "outputs": [],
   "source": []
  },
  {
   "cell_type": "code",
   "execution_count": null,
   "id": "214721c4",
   "metadata": {},
   "outputs": [],
   "source": []
  },
  {
   "cell_type": "code",
   "execution_count": null,
   "id": "4379408a",
   "metadata": {},
   "outputs": [],
   "source": []
  }
 ],
 "metadata": {
  "kernelspec": {
   "display_name": "Python 3 (ipykernel)",
   "language": "python",
   "name": "python3"
  },
  "language_info": {
   "codemirror_mode": {
    "name": "ipython",
    "version": 3
   },
   "file_extension": ".py",
   "mimetype": "text/x-python",
   "name": "python",
   "nbconvert_exporter": "python",
   "pygments_lexer": "ipython3",
   "version": "3.11.4"
  }
 },
 "nbformat": 4,
 "nbformat_minor": 5
}
